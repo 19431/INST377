{
 "cells": [
  {
   "cell_type": "markdown",
   "metadata": {},
   "source": [
    "# This code is for automatically crawling and downloading PDF documents from an archive website."
   ]
  },
  {
   "cell_type": "code",
   "execution_count": 5,
   "metadata": {
    "collapsed": true
   },
   "outputs": [],
   "source": [
    "import urllib.request\n",
    "import re"
   ]
  },
  {
   "cell_type": "code",
   "execution_count": 6,
   "metadata": {
    "collapsed": true
   },
   "outputs": [],
   "source": [
    "base_url = \"http://aomol.msa.maryland.gov/000001/000538/pdf/am538--\"\n",
    "output_path = \"../download/\"\n",
    "extension =\".pdf\""
   ]
  },
  {
   "cell_type": "code",
   "execution_count": 7,
   "metadata": {
    "collapsed": false
   },
   "outputs": [
    {
     "name": "stdout",
     "output_type": "stream",
     "text": [
      "opening page  1\n",
      "opening page  2\n",
      "opening page  3\n",
      "opening page  4\n",
      "opening page  5\n",
      "opening page  6\n",
      "opening page  7\n",
      "opening page  8\n",
      "opening page  9\n"
     ]
    }
   ],
   "source": [
    "# Looping through document 1 - 10\n",
    "for i in range(1,10):\n",
    "    print (\"opening page \", i)\n",
    "    \n",
    "    # Get a file-like object for one of the city directories on the Internet Archive\n",
    "    f = urllib.request.urlopen( base_url + str(i) + extension )\n",
    "\n",
    "    # Read from the object, storing the page's contents in 's'.\n",
    "    data = f.read()\n",
    "    f.close()\n",
    "    \n",
    "    # Set the name of the downloaded file.\n",
    "    output_name = \"am538--\" + str(i) + extension\n",
    "        \n",
    "    # Make an output file in your PC\n",
    "    target = open( output_path + output_name, 'wb' )\n",
    "    target.write( data )\n",
    "    target.close()"
   ]
  },
  {
   "cell_type": "code",
   "execution_count": null,
   "metadata": {
    "collapsed": false
   },
   "outputs": [],
   "source": []
  },
  {
   "cell_type": "code",
   "execution_count": null,
   "metadata": {
    "collapsed": true
   },
   "outputs": [],
   "source": []
  }
 ],
 "metadata": {
  "kernelspec": {
   "display_name": "Python 3",
   "language": "python",
   "name": "python3"
  },
  "language_info": {
   "codemirror_mode": {
    "name": "ipython",
    "version": 3
   },
   "file_extension": ".py",
   "mimetype": "text/x-python",
   "name": "python",
   "nbconvert_exporter": "python",
   "pygments_lexer": "ipython3",
   "version": "3.5.2"
  }
 },
 "nbformat": 4,
 "nbformat_minor": 0
}
